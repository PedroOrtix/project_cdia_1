{
 "cells": [
  {
   "cell_type": "code",
   "execution_count": null,
   "metadata": {},
   "outputs": [],
   "source": [
    "# run this cell to change the working directory to the project root\n",
    "import os\n",
    "os.chdir('..')\n",
    "!ls"
   ]
  },
  {
   "cell_type": "code",
   "execution_count": null,
   "metadata": {},
   "outputs": [],
   "source": [
    "# primero vamos a pasar los resultados de tensorboard a csv\n",
    "from scripts.export_tensorboard import process_beans_directory\n",
    "# correr esto solo si no hay csv_exports\n",
    "process_beans_directory('results/beans', 'results/beans/csv_exports')"
   ]
  },
  {
   "cell_type": "code",
   "execution_count": 3,
   "metadata": {},
   "outputs": [],
   "source": [
    "import pandas as pd\n",
    "import pathlib\n",
    "\n",
    "path_entrenamiento = pathlib.Path('results/beans/csv_exports')\n",
    "# dame los subdirectorios de path_entrenamiento, los inmediatos\n",
    "subdirs = list(path_entrenamiento.iterdir())\n",
    "# Creamos un diccionario para almacenar los DataFrames de cada experimento\n",
    "datos_experimentos = {}\n",
    "\n",
    "for subdir in subdirs:\n",
    "    nombre_experimento = subdir.name\n",
    "    datos_experimentos[nombre_experimento] = {}\n",
    "    \n",
    "    # Obtenemos todos los archivos CSV del experimento\n",
    "    csv_files = list(subdir.glob('tensorboard_exports/*.csv'))\n",
    "    \n",
    "    # Leemos cada CSV y lo guardamos en el diccionario\n",
    "    for csv_file in csv_files:\n",
    "        # Obtenemos el nombre del archivo sin la extensión\n",
    "        nombre_metrica = csv_file.stem\n",
    "        \n",
    "        # Leemos el CSV\n",
    "        df = pd.read_csv(csv_file)\n",
    "        \n",
    "        # Guardamos el DataFrame en el diccionario\n",
    "        datos_experimentos[nombre_experimento][nombre_metrica] = df"
   ]
  },
  {
   "cell_type": "code",
   "execution_count": 4,
   "metadata": {},
   "outputs": [],
   "source": [
    "import json\n",
    "\n",
    "# vamos a abrir el siguiente archivo json: results/beans/training_results_20241206_030322.json\n",
    "with open('results/beans/training_results_20241206_030322.json', 'r') as f:\n",
    "    training_results = json.load(f)"
   ]
  },
  {
   "cell_type": "code",
   "execution_count": null,
   "metadata": {},
   "outputs": [],
   "source": [
    "from notebooks import plots\n",
    "plots.plot_all(datos_experimentos)"
   ]
  },
  {
   "cell_type": "code",
   "execution_count": null,
   "metadata": {},
   "outputs": [],
   "source": [
    "# Para guardar los plots en archivos\n",
    "plots.save_all_plots(datos_experimentos, output_dir='results/plots')"
   ]
  }
 ],
 "metadata": {
  "kernelspec": {
   "display_name": "Python 3",
   "language": "python",
   "name": "python3"
  },
  "language_info": {
   "codemirror_mode": {
    "name": "ipython",
    "version": 3
   },
   "file_extension": ".py",
   "mimetype": "text/x-python",
   "name": "python",
   "nbconvert_exporter": "python",
   "pygments_lexer": "ipython3",
   "version": "3.11.10"
  }
 },
 "nbformat": 4,
 "nbformat_minor": 2
}
